{
 "cells": [
  {
   "cell_type": "code",
   "execution_count": 14,
   "metadata": {},
   "outputs": [],
   "source": [
    "import os\n",
    "from shutil import copyfile"
   ]
  },
  {
   "cell_type": "code",
   "execution_count": 4,
   "metadata": {},
   "outputs": [],
   "source": [
    "HOMEDIR = os.getcwd()\n",
    "BBBC_DIR = '/BBBC_data'"
   ]
  },
  {
   "cell_type": "code",
   "execution_count": 6,
   "metadata": {},
   "outputs": [],
   "source": [
    "# Get list of files in images with corresponding mask...\n",
    "all_images=[f for f in os.listdir(HOMEDIR + BBBC_DIR + '/BBBC005_v1_images') if f.endswith('.TIF')]\n",
    "mask_images = [f for f in os.listdir(HOMEDIR + BBBC_DIR + '//BBBC005_v1_ground_truth/BBBC005_v1_ground_truth') if f.endswith('.TIF')]\n",
    "\n",
    "has_mask = [f for f in all_images if f in mask_images]"
   ]
  },
  {
   "cell_type": "code",
   "execution_count": 21,
   "metadata": {},
   "outputs": [],
   "source": [
    "# copy images and their mask to mask_images folder\n",
    "for f in has_mask:\n",
    "    raw_image_src = HOMEDIR + BBBC_DIR + '/BBBC005_v1_images/' + f\n",
    "    raw_image_dest = HOMEDIR + BBBC_DIR + '/mask_creation_images/image/' + f\n",
    "\n",
    "    # copy\n",
    "    copyfile(raw_image_src,raw_image_dest)\n",
    "    \n",
    "for f in has_mask:\n",
    "    mask_image_src = HOMEDIR + BBBC_DIR + '/BBBC005_v1_ground_truth/BBBC005_v1_ground_truth/' + f\n",
    "    mask_image_dest = HOMEDIR + BBBC_DIR + '/mask_creation_images/label/' + f\n",
    "    copyfile(mask_image_src,mask_image_dest)"
   ]
  },
  {
   "cell_type": "code",
   "execution_count": 22,
   "metadata": {},
   "outputs": [
    {
     "name": "stdout",
     "output_type": "stream",
     "text": [
      "/home/andy-pohl/Documents/ssc_challenge/ssc-case-study-2019/BBBC_data/mask_creation_images/label/SIMCEPImages_A09_C35_F1_s17_w1.TIF\n"
     ]
    }
   ],
   "source": []
  }
 ],
 "metadata": {
  "kernelspec": {
   "display_name": "Python 3",
   "language": "python",
   "name": "python3"
  },
  "language_info": {
   "codemirror_mode": {
    "name": "ipython",
    "version": 3
   },
   "file_extension": ".py",
   "mimetype": "text/x-python",
   "name": "python",
   "nbconvert_exporter": "python",
   "pygments_lexer": "ipython3",
   "version": "3.7.3"
  }
 },
 "nbformat": 4,
 "nbformat_minor": 2
}
