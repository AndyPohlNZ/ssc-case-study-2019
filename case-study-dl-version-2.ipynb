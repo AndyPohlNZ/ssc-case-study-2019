{
 "cells": [
  {
   "cell_type": "markdown",
   "metadata": {},
   "source": [
    "# SSC Case Study 1 2019\n",
    "\n",
    "**case study information:**\n",
    "https://ssc.ca/en/case-study/case-study-1-counting-cells-microscopic-images"
   ]
  },
  {
   "cell_type": "code",
   "execution_count": 30,
   "metadata": {},
   "outputs": [],
   "source": [
    "# Convert the .TIF images to something easier to work with using pillow\n",
    "# https://pillow.readthedocs.io/en/latest/installation.html\n",
    "from PIL import Image\n",
    "import glob\n",
    "import os\n",
    "import numpy as np\n",
    "import csv\n",
    "os.chdir('C:\\\\Users\\\\Admin\\\\Documents\\\\GitHub\\\\ssc-case-study-2019\\\\ssc-data')\n",
    "train_path = 'Users/Admin/Documents/GitHub/ssc-case-study-2019/ssc-data/train'\n",
    "test_path = 'Users/Admin/Documents/GitHub/ssc-case-study-2019/ssc-data/test'\n",
    "label_path = 'Users/Admin/Documents/GitHub/ssc-case-study-2019/ssc-data'\n",
    "### read training labels ####\n",
    "os.chdir('C:\\\\Users\\\\Admin\\\\Documents\\\\GitHub\\\\ssc-case-study-2019\\\\ssc-data')#please change the directory to your working path\n",
    "training_image_name = []\n",
    "training_cell_count = []\n",
    "training_blur_level = []\n",
    "training_stain = []\n",
    "with open('train_label.csv', newline='') as f:\n",
    "    reader = csv.reader(f)\n",
    "    next(reader,None)\n",
    "    for row in reader:\n",
    "        training_image_name.append(row[0])\n",
    "        training_cell_count.append(row[1])\n",
    "        training_blur_level.append(row[2])\n",
    "        training_stain.append(row[3])\n",
    "\n",
    "### read training images ####\n",
    "os.chdir('C:\\\\Users\\\\Admin\\\\Documents\\\\GitHub\\\\ssc-case-study-2019\\\\ssc-data\\\\train')#please change the directory to your working path\n",
    "##create a list (training_list) containing pixel value of 2400 training images\n",
    "traning_list = []\n",
    "for i in training_image_name:\n",
    "\tim = Image.open(i)\n",
    "\t#im.show()\n",
    "\timarray = np.array(im)\n",
    "\ttraning_list.append(imarray)\n",
    "\n",
    "\n",
    "\n",
    "### read test labels ####\n",
    "os.chdir('C:\\\\Users\\\\Admin\\\\Documents\\\\GitHub\\\\ssc-case-study-2019\\\\ssc-data')#please change the directory to your working path\n",
    "testing_image_name = []\n",
    "testing_cell_count = []\n",
    "testing_blur_level = []\n",
    "testing_stain = []\n",
    "with open('test_label.csv', newline='') as f:\n",
    "    reader = csv.reader(f)\n",
    "    next(reader,None)\n",
    "    for row in reader:\n",
    "        testing_image_name.append(row[0])\n",
    "#         testing_cell_count.append(row[1])\n",
    "        testing_blur_level.append(row[1])\n",
    "        testing_stain.append(row[2])\n",
    "\n",
    "## read testing images ####        \n",
    "os.chdir('C:\\\\Users\\\\Admin\\\\Documents\\\\GitHub\\\\ssc-case-study-2019\\\\ssc-data\\\\test')#please change the directory to your working path\n",
    "##create a list (testing_list) containing pixel value of 1200 testing images\n",
    "testing_list = []\n",
    "for i in testing_image_name:\n",
    "\tim = Image.open(i)\n",
    "# \tim.show()\n",
    "\timarray = np.array(im)\n",
    "\ttesting_list.append(imarray)\n",
    "    "
   ]
  },
  {
   "cell_type": "markdown",
   "metadata": {},
   "source": [
    "## Method 0"
   ]
  },
  {
   "cell_type": "code",
   "execution_count": 31,
   "metadata": {},
   "outputs": [],
   "source": [
    "# Import statements\n",
    "from pathlib import Path\n",
    "from PIL import Image\n",
    "import numpy as np\n",
    "from matplotlib.pyplot import imsave\n",
    "from matplotlib import pyplot as plt\n",
    "from skimage import measure\n",
    "from random import choice"
   ]
  },
  {
   "cell_type": "code",
   "execution_count": 32,
   "metadata": {},
   "outputs": [],
   "source": [
    "# Set path for training data\n",
    "PATH = Path(\"C:\\\\Users\\\\Admin\\\\Documents\\\\GitHub\\\\ssc-case-study-2019\\\\ssc-data\\\\train\")\n",
    "# Iterate over files in path\n",
    "files = [file for file in PATH.iterdir()]"
   ]
  },
  {
   "cell_type": "code",
   "execution_count": null,
   "metadata": {},
   "outputs": [],
   "source": [
    "def binarize(im, thresh):\n",
    "    return (im <= thresh)*np.zeros_like(im) + (im > thresh)*np.ones_like(im)"
   ]
  },
  {
   "cell_type": "code",
   "execution_count": null,
   "metadata": {},
   "outputs": [],
   "source": [
    "f = choice(files)\n",
    "im = np.array(Image.open(f))"
   ]
  },
  {
   "cell_type": "code",
   "execution_count": null,
   "metadata": {},
   "outputs": [],
   "source": [
    "plt.imshow(im)\n",
    "plt.show()\n",
    "plt.imshow(binarize(im, 50))\n",
    "plt.show()\n",
    "\n",
    "plt.imshow((tiff < 25)*np.zeros_like(tiff) + (tiff >= 25)*np.ones_like(tiff))"
   ]
  },
  {
   "cell_type": "code",
   "execution_count": null,
   "metadata": {},
   "outputs": [],
   "source": [
    "imb = binarize(im, 50)\n",
    "regions = measure.label(imb)\n",
    "for i in range(np.max(regions)):\n",
    "    plt.imshow(regions == i)\n",
    "    plt.show()"
   ]
  },
  {
   "cell_type": "code",
   "execution_count": null,
   "metadata": {},
   "outputs": [],
   "source": [
    "sizes = [np.sum(regions == i) for i in range(np.max(regions))]\n",
    "np.sort(sizes)\n",
    "np.median(sizes)"
   ]
  },
  {
   "cell_type": "code",
   "execution_count": null,
   "metadata": {},
   "outputs": [],
   "source": [
    "np.sum(imb)/np.median(sizes)"
   ]
  },
  {
   "cell_type": "code",
   "execution_count": null,
   "metadata": {},
   "outputs": [],
   "source": [
    "im.shape"
   ]
  },
  {
   "cell_type": "code",
   "execution_count": null,
   "metadata": {},
   "outputs": [],
   "source": [
    "np.unique(im)\n",
    "\n",
    "f"
   ]
  },
  {
   "cell_type": "markdown",
   "metadata": {},
   "source": [
    "# Approach 1: U-Net\n",
    "\n",
    "Source: https://www.kaggle.com/c/data-science-bowl-2018/discussion/54741"
   ]
  },
  {
   "cell_type": "code",
   "execution_count": 2,
   "metadata": {},
   "outputs": [
    {
     "ename": "ModuleNotFoundError",
     "evalue": "No module named 'cv2'",
     "output_type": "error",
     "traceback": [
      "\u001b[1;31m---------------------------------------------------------------------------\u001b[0m",
      "\u001b[1;31mModuleNotFoundError\u001b[0m                       Traceback (most recent call last)",
      "\u001b[1;32m<ipython-input-2-93c0a47a2132>\u001b[0m in \u001b[0;36m<module>\u001b[1;34m()\u001b[0m\n\u001b[0;32m      6\u001b[0m \u001b[1;32mimport\u001b[0m \u001b[0mnumpy\u001b[0m \u001b[1;32mas\u001b[0m \u001b[0mnp\u001b[0m\u001b[1;33m\u001b[0m\u001b[0m\n\u001b[0;32m      7\u001b[0m \u001b[1;32mimport\u001b[0m \u001b[0mpandas\u001b[0m \u001b[1;32mas\u001b[0m \u001b[0mps\u001b[0m\u001b[1;33m\u001b[0m\u001b[0m\n\u001b[1;32m----> 8\u001b[1;33m \u001b[1;32mimport\u001b[0m \u001b[0mcv2\u001b[0m\u001b[1;33m\u001b[0m\u001b[0m\n\u001b[0m\u001b[0;32m      9\u001b[0m \u001b[1;32mimport\u001b[0m \u001b[0mmatplotlib\u001b[0m\u001b[1;33m.\u001b[0m\u001b[0mpyplot\u001b[0m \u001b[1;32mas\u001b[0m \u001b[0mplt\u001b[0m\u001b[1;33m\u001b[0m\u001b[0m\n\u001b[0;32m     10\u001b[0m \u001b[1;33m\u001b[0m\u001b[0m\n",
      "\u001b[1;31mModuleNotFoundError\u001b[0m: No module named 'cv2'"
     ]
    }
   ],
   "source": [
    "# Import packages \n",
    "import os\n",
    "import sys\n",
    "import random \n",
    "\n",
    "import numpy as np\n",
    "import pandas as ps\n",
    "import cv2\n",
    "import matplotlib.pyplot as plt\n",
    "\n",
    "import tensorflow as tf\n",
    "from tensorflow import keras\n",
    "\n",
    "rand_seed = 1775"
   ]
  },
  {
   "cell_type": "markdown",
   "metadata": {},
   "source": [
    "# Load Data"
   ]
  },
  {
   "cell_type": "code",
   "execution_count": null,
   "metadata": {},
   "outputs": [],
   "source": [
    "class GenerateData(keras.utils.Sequence):\n",
    "    def __init__(self, ids, path, batch_size = 8, image_size=128)::\n",
    "        self.ids = ids\n",
    "        self.path = path\n",
    "        self.batch_size = batch_size\n",
    "        self.image_size = image_size\n",
    "        self.on_epoch_end()\n",
    "        \n",
    "    \n",
    "        \n",
    "        "
   ]
  },
  {
   "cell_type": "markdown",
   "metadata": {},
   "source": [
    "# Approach 2: Facebook Detectron"
   ]
  },
  {
   "cell_type": "markdown",
   "metadata": {},
   "source": []
  },
  {
   "cell_type": "markdown",
   "metadata": {},
   "source": [
    "# Approach 3: Deeplab\n",
    "\n",
    "https://github.com/tensorflow/models/tree/master/research/deeplab\n",
    "\n",
    "Example notebook: https://colab.research.google.com/github/tensorflow/models/blob/master/research/deeplab/deeplab_demo.ipynb"
   ]
  },
  {
   "cell_type": "code",
   "execution_count": null,
   "metadata": {},
   "outputs": [],
   "source": [
    "#convert the training data to png\n",
    "# Shouldn't need to run this if you pull the github repo\n",
    "\n",
    "# This needs to be changed relative to your local file path\n",
    "# base_dir = \"C:\\\\Users\\\\Admin\\\\Documents\\\\GitHub\\\\ssc-case-study-2019\\\\ssc-data\"\n",
    "\n",
    "# os.chdir(base_dir+'\\\\train')\n",
    "# for infile in glob.glob(\"*.TIF\"):\n",
    "#     file, ext = os.path.splitext(infile)\n",
    "#     im = Image.open(infile)\n",
    "#     im.save(base_dir+'\\\\train-png/{}.png'.format(file))\n",
    "    \n",
    "# # Convert the test data to png\n",
    "# os.chdir(base_dir+'\\\\test')\n",
    "# for infile in glob.glob(\"*.TIF\"):\n",
    "#     file, ext = os.path.splitext(infile)\n",
    "#     im = Image.open(infile)\n",
    "#     im.save(base_dir+'\\\\test-png/{}.png'.format(file))"
   ]
  }
 ],
 "metadata": {
  "kernelspec": {
   "display_name": "Python 3",
   "language": "python",
   "name": "python3"
  },
  "language_info": {
   "codemirror_mode": {
    "name": "ipython",
    "version": 3
   },
   "file_extension": ".py",
   "mimetype": "text/x-python",
   "name": "python",
   "nbconvert_exporter": "python",
   "pygments_lexer": "ipython3",
   "version": "3.7.3"
  }
 },
 "nbformat": 4,
 "nbformat_minor": 2
}
