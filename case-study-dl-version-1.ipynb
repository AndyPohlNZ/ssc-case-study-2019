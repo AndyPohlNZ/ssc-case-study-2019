{
 "cells": [
  {
   "cell_type": "markdown",
   "metadata": {},
   "source": [
    "# SSC Case Study 1 2019\n",
    "\n",
    "**case study information:**\n",
    "https://ssc.ca/en/case-study/case-study-1-counting-cells-microscopic-images"
   ]
  },
  {
   "cell_type": "code",
   "execution_count": 1,
   "metadata": {},
   "outputs": [],
   "source": [
    "# Convert the .TIF images to something easier to work with using pillow\n",
    "# https://pillow.readthedocs.io/en/latest/installation.html\n",
    "from PIL import Image\n",
    "import glob\n",
    "import os\n",
    "\n",
    "# Import computational packages\n",
    "\n",
    "import tensorflow as tf\n",
    "\n"
   ]
  },
  {
   "cell_type": "code",
   "execution_count": 55,
   "metadata": {},
   "outputs": [],
   "source": [
    "#convert the training data to png\n",
    "# Shouldn't need to run this if you pull the github repo\n",
    "\n",
    "# This needs to be changed relative to your local file path\n",
    "base_dir = \"C:\\\\Users\\\\Admin\\\\Documents\\\\GitHub\\\\ssc-case-study-2019\\\\ssc-data\"\n",
    "\n",
    "os.chdir(base_dir+'\\\\train')\n",
    "for infile in glob.glob(\"*.TIF\"):\n",
    "    file, ext = os.path.splitext(infile)\n",
    "    im = Image.open(infile)\n",
    "    im.save(base_dir+'\\\\train-png/{}.png'.format(file))\n",
    "    \n",
    "# Convert the test data to png\n",
    "os.chdir(base_dir+'\\\\test')\n",
    "for infile in glob.glob(\"*.TIF\"):\n",
    "    file, ext = os.path.splitext(infile)\n",
    "    im = Image.open(infile)\n",
    "    im.save(base_dir+'\\\\test-png/{}.png'.format(file))"
   ]
  },
  {
   "cell_type": "markdown",
   "metadata": {},
   "source": [
    "# Approach 1: U-Net\n",
    "\n",
    "Source: https://www.kaggle.com/c/data-science-bowl-2018/discussion/54741"
   ]
  },
  {
   "cell_type": "code",
   "execution_count": null,
   "metadata": {},
   "outputs": [],
   "source": [
    "# Import packages \n",
    "import os\n",
    "import sys\n",
    "import "
   ]
  },
  {
   "cell_type": "markdown",
   "metadata": {},
   "source": [
    "# Approach 2: Facebook Detectron"
   ]
  },
  {
   "cell_type": "markdown",
   "metadata": {},
   "source": []
  },
  {
   "cell_type": "markdown",
   "metadata": {},
   "source": [
    "# Approach 3: Deeplab\n",
    "\n",
    "https://github.com/tensorflow/models/tree/master/research/deeplab\n",
    "\n",
    "Example notebook: https://colab.research.google.com/github/tensorflow/models/blob/master/research/deeplab/deeplab_demo.ipynb"
   ]
  }
 ],
 "metadata": {
  "kernelspec": {
   "display_name": "Python 3",
   "language": "python",
   "name": "python3"
  },
  "language_info": {
   "codemirror_mode": {
    "name": "ipython",
    "version": 3
   },
   "file_extension": ".py",
   "mimetype": "text/x-python",
   "name": "python",
   "nbconvert_exporter": "python",
   "pygments_lexer": "ipython3",
   "version": "3.7.3"
  }
 },
 "nbformat": 4,
 "nbformat_minor": 2
}
