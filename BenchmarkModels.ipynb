{
 "cells": [
  {
   "cell_type": "code",
   "execution_count": 17,
   "metadata": {},
   "outputs": [],
   "source": [
    "import os\n",
    "import pandas as pd\n",
    "import numpy as np\n",
    "import random\n",
    "random.seed(123)\n",
    "\n",
    "HOMEDIR = os.getcwd()\n",
    "TRAIN_DIRECTORY = HOMEDIR + '/ssc-data/CompTrain/'\n",
    "TEST_DIRECTORY = HOMEDIR  + '/ssc-data/CompValid/'\n",
    "\n",
    "def RMSE(c, c_hat):\n",
    "    return np.sqrt(np.mean(np.power(c-c_hat, 2)))"
   ]
  },
  {
   "cell_type": "code",
   "execution_count": 25,
   "metadata": {},
   "outputs": [
    {
     "data": {
      "text/plain": [
       "count    1920.00000\n",
       "mean       50.54375\n",
       "std        29.63564\n",
       "min         1.00000\n",
       "25%        27.00000\n",
       "50%        53.00000\n",
       "75%        74.00000\n",
       "max       100.00000\n",
       "Name: count, dtype: float64"
      ]
     },
     "execution_count": 25,
     "metadata": {},
     "output_type": "execute_result"
    }
   ],
   "source": [
    "train_labs = pd.read_csv(TRAIN_DIRECTORY + 'labels.csv')\n",
    "test_labs = pd.read_csv(TEST_DIRECTORY + 'labels.csv')\n",
    "NTEST = test_labs.shape[0]\n",
    "train_labs['count'].describe()"
   ]
  },
  {
   "cell_type": "code",
   "execution_count": 31,
   "metadata": {},
   "outputs": [
    {
     "name": "stdout",
     "output_type": "stream",
     "text": [
      "30.508074195954013\n"
     ]
    }
   ],
   "source": [
    "# Guess Mean\n",
    "mean_guess = np.repeat(train_labs['count'].mean(), NTEST)\n",
    "print(RMSE(mean_guess, test_labs['count']))"
   ]
  },
  {
   "cell_type": "code",
   "execution_count": 35,
   "metadata": {},
   "outputs": [
    {
     "name": "stdout",
     "output_type": "stream",
     "text": [
      "41.74860277103095\n"
     ]
    }
   ],
   "source": [
    "# Guess Random Integers....\n",
    "random_guess = np.random.randint(train_labs['count'].min(),\n",
    "                                  train_labs['count'].max(),\n",
    "                                  NTEST)\n",
    "print(RMSE(random_guess, test_labs['count']))"
   ]
  },
  {
   "cell_type": "code",
   "execution_count": 36,
   "metadata": {},
   "outputs": [
    {
     "name": "stdout",
     "output_type": "stream",
     "text": [
      "31.9561874551184\n"
     ]
    }
   ],
   "source": [
    "# Guess randomly from Poisson distribution\n",
    "pois_guess = np.random.poisson(train_labs['count'].mean(), NTEST)\n",
    "print(RMSE(pois_guess, test_labs['count']))"
   ]
  }
 ],
 "metadata": {
  "kernelspec": {
   "display_name": "Python 3",
   "language": "python",
   "name": "python3"
  },
  "language_info": {
   "codemirror_mode": {
    "name": "ipython",
    "version": 3
   },
   "file_extension": ".py",
   "mimetype": "text/x-python",
   "name": "python",
   "nbconvert_exporter": "python",
   "pygments_lexer": "ipython3",
   "version": "3.7.3"
  }
 },
 "nbformat": 4,
 "nbformat_minor": 2
}
