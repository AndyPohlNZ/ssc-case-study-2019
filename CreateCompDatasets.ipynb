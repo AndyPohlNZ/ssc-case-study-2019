{
 "cells": [
  {
   "cell_type": "code",
   "execution_count": 1,
   "metadata": {},
   "outputs": [],
   "source": [
    "import os\n",
    "import random\n",
    "import math\n",
    "from shutil import copyfile\n",
    "import pandas as pd\n",
    "random.seed(123)"
   ]
  },
  {
   "cell_type": "code",
   "execution_count": 2,
   "metadata": {},
   "outputs": [],
   "source": [
    "HOMEDIR = os.getcwd()\n",
    "TRAIN_DIR = '/ssc-data/train'\n",
    "TRAIN_IMAGES = [f for f in os.listdir(HOMEDIR + TRAIN_DIR ) if f.endswith('.TIF')]\n"
   ]
  },
  {
   "cell_type": "code",
   "execution_count": 3,
   "metadata": {},
   "outputs": [],
   "source": [
    "ptrain = 0.8\n",
    "pvalid = 0.2\n",
    "\n",
    "images_s = random.shuffle(TRAIN_IMAGES)\n",
    "\n",
    "ntrain =math.floor(ptrain*len(TRAIN_IMAGES))\n",
    "train = random.sample(TRAIN_IMAGES,ntrain)\n",
    "valid = [f for f in TRAIN_IMAGES if f not in train]\n",
    "\n",
    "test = [f for f in os.listdir(HOMEDIR + '/ssc-data/test/') if  f.endswith('.TIF')]"
   ]
  },
  {
   "cell_type": "code",
   "execution_count": 4,
   "metadata": {},
   "outputs": [],
   "source": [
    "\n",
    "if not os.path.exists(HOMEDIR  + '/ssc-data/CompTrain'):\n",
    "    os.makedirs(HOMEDIR + '/ssc-data/CompTrain')\n",
    "\n",
    "if not os.path.exists(HOMEDIR + '/ssc-data/CompValid'):\n",
    "    os.makedirs(HOMEDIR + '/ssc-data/CompValid')\n",
    "\n",
    "if not os.path.exists(HOMEDIR + '/ssc-data/CompTest'):\n",
    "    os.makedirs(HOMEDIR + '/ssc-data/CompTest')\n",
    "    \n",
    "for f in train:\n",
    "    raw_image_src = HOMEDIR + TRAIN_DIR + '/'+ f\n",
    "    raw_image_dest = HOMEDIR + '/ssc-data/CompTrain/' + f\n",
    "    copyfile(raw_image_src,raw_image_dest)\n",
    "\n",
    "for f in valid:\n",
    "    raw_image_src = HOMEDIR + TRAIN_DIR + '/'+ f\n",
    "    raw_image_dest = HOMEDIR + '/ssc-data/CompValid/' + f\n",
    "    copyfile(raw_image_src,raw_image_dest)\n",
    "    \n",
    "for f in test:\n",
    "    raw_image_src = HOMEDIR + '/ssc-data/test/' + '/'+ f\n",
    "    raw_image_dest = HOMEDIR + '/ssc-data/CompTest/' + f\n",
    "    copyfile(raw_image_src,raw_image_dest)\n",
    "    \n"
   ]
  },
  {
   "cell_type": "code",
   "execution_count": 5,
   "metadata": {},
   "outputs": [],
   "source": [
    "# Create labels\n",
    "\n",
    "train = [f for f in os.listdir(HOMEDIR + '/ssc-data/CompTrain/' ) if f.endswith('.TIF')]\n",
    "valid = [f for f in os.listdir(HOMEDIR + '/ssc-data/CompValid/' ) if f.endswith('.TIF')]\n",
    "test = [f for f in os.listdir(HOMEDIR + '/ssc-data/CompTest/' ) if f.endswith('.TIF')]\n",
    "\n",
    "all_train_labs = pd.read_csv(HOMEDIR + '/ssc-data/train_label.csv')\n",
    "all_test_labs = pd.read_csv(HOMEDIR + '/ssc-data/test_label.csv')"
   ]
  },
  {
   "cell_type": "code",
   "execution_count": 6,
   "metadata": {},
   "outputs": [],
   "source": [
    "mask = [True if f in train else False for f in all_train_labs.image_name]\n",
    "train_lab = all_train_labs[mask]\n",
    "mask = [True if f in valid else False for f in all_train_labs.image_name]\n",
    "valid_lab = all_train_labs[mask]\n",
    "\n",
    "train_lab.to_csv(HOMEDIR + '/ssc-data/CompTrain/labels.csv', index = False)\n",
    "valid_lab.to_csv(HOMEDIR + '/ssc-data/CompValid/labels.csv', index = False)\n",
    "all_test_labs.to_csv(HOMEDIR + '/ssc-data/CompTest/labels.csv', index = False)"
   ]
  }
 ],
 "metadata": {
  "kernelspec": {
   "display_name": "Python 3",
   "language": "python",
   "name": "python3"
  },
  "language_info": {
   "codemirror_mode": {
    "name": "ipython",
    "version": 3
   },
   "file_extension": ".py",
   "mimetype": "text/x-python",
   "name": "python",
   "nbconvert_exporter": "python",
   "pygments_lexer": "ipython3",
   "version": "3.7.3"
  }
 },
 "nbformat": 4,
 "nbformat_minor": 2
}
