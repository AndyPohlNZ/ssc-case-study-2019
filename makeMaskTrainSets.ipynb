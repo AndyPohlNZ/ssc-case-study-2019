{
 "cells": [
  {
   "cell_type": "code",
   "execution_count": 1,
   "metadata": {},
   "outputs": [],
   "source": [
    "import os\n",
    "import random\n",
    "from shutil import copyfile\n",
    "random.seed(123)\n",
    "import numpy as np\n",
    "import math"
   ]
  },
  {
   "cell_type": "code",
   "execution_count": 2,
   "metadata": {},
   "outputs": [],
   "source": [
    "HOMEDIR = os.getcwd()\n",
    "BBBCMASK_DIR = '/BBBC_data/mask_creation_images'\n",
    "# get number of images\n",
    "ALL_IMAGES = [f for f in os.listdir(HOMEDIR + BBBCMASK_DIR + '/image') if f.endswith('.TIF')]\n",
    "N_IMAGES = len(ALL_IMAGES)\n"
   ]
  },
  {
   "cell_type": "code",
   "execution_count": 3,
   "metadata": {},
   "outputs": [],
   "source": [
    "ptrain = 0.8\n",
    "#pvalid = 0.1\n",
    "\n",
    "images_s = random.shuffle(ALL_IMAGES)\n",
    "\n",
    "ntrain =math.floor(ptrain*N_IMAGES)\n",
    "train = random.sample(ALL_IMAGES,ntrain)\n",
    "test = [f for f in ALL_IMAGES if f not in train]\n",
    "\n",
    "#nvalid = len(test) - math.floor((pvalid/(1-ptrain))*len(test))\n",
    "nvalid = 50\n",
    "valid = random.sample(test,nvalid)\n",
    "                                         \n",
    "test = [f for f in test if f not in valid]"
   ]
  },
  {
   "cell_type": "code",
   "execution_count": 4,
   "metadata": {},
   "outputs": [],
   "source": [
    "\n",
    "if not os.path.exists(HOMEDIR + BBBCMASK_DIR + '/train'):\n",
    "    os.makedirs(HOMEDIR + BBBCMASK_DIR + '/train')\n",
    "    os.makedirs(HOMEDIR + BBBCMASK_DIR + '/train/image')\n",
    "    os.makedirs(HOMEDIR + BBBCMASK_DIR + '/train/image/class0')\n",
    "    os.makedirs(HOMEDIR + BBBCMASK_DIR + '/train/label')\n",
    "    os.makedirs(HOMEDIR + BBBCMASK_DIR + '/train/label/class0')\n",
    "\n",
    "\n",
    "    \n",
    "if not os.path.exists(HOMEDIR + BBBCMASK_DIR + '/test'):\n",
    "    os.makedirs(HOMEDIR + BBBCMASK_DIR + '/test')\n",
    "    os.makedirs(HOMEDIR + BBBCMASK_DIR + '/test/image')\n",
    "    os.makedirs(HOMEDIR + BBBCMASK_DIR + '/test/image/class0')\n",
    "    os.makedirs(HOMEDIR + BBBCMASK_DIR + '/test/label')\n",
    "    os.makedirs(HOMEDIR + BBBCMASK_DIR + '/test/label/class0')\n",
    "\n",
    "    \n",
    "if not os.path.exists(HOMEDIR + BBBCMASK_DIR + '/valid'):\n",
    "    os.makedirs(HOMEDIR + BBBCMASK_DIR + '/valid')\n",
    "    os.makedirs(HOMEDIR + BBBCMASK_DIR + '/valid/image')\n",
    "    os.makedirs(HOMEDIR + BBBCMASK_DIR + '/valid/image/class0')\n",
    "    os.makedirs(HOMEDIR + BBBCMASK_DIR + '/valid/label')\n",
    "    os.makedirs(HOMEDIR + BBBCMASK_DIR + '/valid/label/class0')\n",
    "\n",
    "for f in train:\n",
    "    raw_image_src = HOMEDIR + BBBCMASK_DIR + '/image/' + f\n",
    "    raw_image_dest = HOMEDIR + BBBCMASK_DIR + '/train/image/class0/' + f\n",
    "    mask_image_src = HOMEDIR + BBBCMASK_DIR + '/label/' + f\n",
    "    mask_image_dest = HOMEDIR + BBBCMASK_DIR + '/train/label/class0/' + f\n",
    "    copyfile(raw_image_src,raw_image_dest)\n",
    "    copyfile(mask_image_src,mask_image_dest)\n",
    "\n",
    "for f in test:\n",
    "    raw_image_src = HOMEDIR + BBBCMASK_DIR + '/image/' + f\n",
    "    raw_image_dest = HOMEDIR + BBBCMASK_DIR + '/test/image/class0/' + f\n",
    "    mask_image_src = HOMEDIR + BBBCMASK_DIR + '/label/' + f\n",
    "    mask_image_dest = HOMEDIR + BBBCMASK_DIR + '/test/label/class0/' + f\n",
    "    copyfile(raw_image_src,raw_image_dest)\n",
    "    copyfile(mask_image_src,mask_image_dest)\n",
    "                                          \n",
    "for f in valid:\n",
    "    raw_image_src = HOMEDIR + BBBCMASK_DIR + '/image/' + f\n",
    "    raw_image_dest = HOMEDIR + BBBCMASK_DIR + '/valid/image/class0/' + f\n",
    "    mask_image_src = HOMEDIR + BBBCMASK_DIR + '/label/' + f\n",
    "    mask_image_dest = HOMEDIR + BBBCMASK_DIR + '/valid/label/class0/' + f\n",
    "    copyfile(raw_image_src,raw_image_dest)\n",
    "    copyfile(mask_image_src,mask_image_dest)"
   ]
  }
 ],
 "metadata": {
  "kernelspec": {
   "display_name": "Python 3",
   "language": "python",
   "name": "python3"
  },
  "language_info": {
   "codemirror_mode": {
    "name": "ipython",
    "version": 3
   },
   "file_extension": ".py",
   "mimetype": "text/x-python",
   "name": "python",
   "nbconvert_exporter": "python",
   "pygments_lexer": "ipython3",
   "version": "3.7.3"
  }
 },
 "nbformat": 4,
 "nbformat_minor": 2
}
