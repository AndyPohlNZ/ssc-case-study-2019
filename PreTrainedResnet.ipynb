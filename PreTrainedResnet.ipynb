{
 "cells": [
  {
   "cell_type": "code",
   "execution_count": 16,
   "metadata": {},
   "outputs": [],
   "source": [
    "from PIL import Image\n",
    "import os\n",
    "import numpy as np\n",
    "import csv\n",
    "import random\n",
    "random.seed(123)\n",
    "np.random.seed(123)\n",
    "\n",
    "\n",
    "import PIL\n",
    "from PIL import Image"
   ]
  },
  {
   "cell_type": "code",
   "execution_count": 9,
   "metadata": {},
   "outputs": [],
   "source": [
    "HOMEDIR =os.getcwd()\n",
    "TRAIN = HOMEDIR + '/ssc-data/CompTrain'\n",
    "TEST = HOMEDIR + '/ssc-data/CompValid'\n",
    "\n",
    "IMAGE_SIZE = (512,512)"
   ]
  },
  {
   "cell_type": "code",
   "execution_count": 30,
   "metadata": {},
   "outputs": [],
   "source": [
    "train_images = [f for f in os.listdir(TRAIN +'/')if f.endswith('.TIF')]\n",
    "train_labs = pd.read_csv(TRAIN + '/labels.csv')\n",
    "\n",
    "train_image_list = []\n",
    "for f in train_images:\n",
    "  #mask = train_labs.image_name == f\n",
    "    c = train_labs.loc[train_labs.image_name==f, 'count'].values[0]\n",
    "\n",
    "    raw_image_src = TRAIN + '/'+ f\n",
    "    img = Image.open(raw_image_src).convert(\"L\")\n",
    "    img = img.resize(IMAGE_SIZE, resample=PIL.Image.BICUBIC)\n",
    "    img = np.array(img)\n",
    "    img = img/255\n",
    "    train_image_list.append(img)\n",
    "    \n",
    "train_images = np.array(train_image_list)\n",
    "\n",
    "\n"
   ]
  },
  {
   "cell_type": "code",
   "execution_count": 36,
   "metadata": {},
   "outputs": [
    {
     "data": {
      "text/plain": [
       "1920"
      ]
     },
     "execution_count": 36,
     "metadata": {},
     "output_type": "execute_result"
    }
   ],
   "source": [
    "# prepare labesl\n",
    "ntrain = train_labs.shape[0]\n",
    "\n",
    "for i in range(ntrain):\n",
    "    "
   ]
  }
 ],
 "metadata": {
  "kernelspec": {
   "display_name": "Python 3",
   "language": "python",
   "name": "python3"
  },
  "language_info": {
   "codemirror_mode": {
    "name": "ipython",
    "version": 3
   },
   "file_extension": ".py",
   "mimetype": "text/x-python",
   "name": "python",
   "nbconvert_exporter": "python",
   "pygments_lexer": "ipython3",
   "version": "3.7.3"
  }
 },
 "nbformat": 4,
 "nbformat_minor": 2
}
