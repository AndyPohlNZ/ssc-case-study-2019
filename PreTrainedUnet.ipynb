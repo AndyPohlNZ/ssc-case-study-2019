{
 "cells": [
  {
   "cell_type": "code",
   "execution_count": 42,
   "metadata": {},
   "outputs": [],
   "source": [
    "#Pattern Recognition and Machine Learning (PARMA) Group\n",
    "#School of Computing, Costa Rica Institute of Technology\n",
    "#\n",
    "#title           :unet_CellSegmentation.py\n",
    "#description     :Cell segmentation using pretrained unet architecture. \n",
    "#authors         :Willard Zamora wizaca23@gmail.com, \n",
    "#                 Manuel Zumbado manzumbado@ic-itcr.ac.cr\n",
    "\n",
    "import os\n",
    "import time\n",
    "import datetime\n",
    "import numpy as np\n",
    "import matplotlib.pyplot as plt\n",
    "from PIL import Image\n",
    "import glob\n",
    "from keras.models import Model\n",
    "from keras.layers import Input, concatenate, Conv2D, MaxPooling2D, Conv2DTranspose\n",
    "from keras.optimizers import Adam\n",
    "from keras import backend as K\n",
    "from keras.preprocessing.image import ImageDataGenerator\n",
    "from keras.callbacks import ModelCheckpoint,EarlyStopping,TensorBoard,CSVLogger\n",
    "\n",
    "from skimage.io import imread, imshow\n",
    "from skimage import transform\n"
   ]
  },
  {
   "cell_type": "code",
   "execution_count": 2,
   "metadata": {},
   "outputs": [],
   "source": [
    "HOMEDIR = os.getcwd()\n",
    "BBBCMASK_DIR = '/BBBC_data/mask_creation_images'\n",
    "BATCH_SIZE = 64\n",
    "MAX_EPOCHS = 50"
   ]
  },
  {
   "cell_type": "code",
   "execution_count": 13,
   "metadata": {},
   "outputs": [
    {
     "ename": "SyntaxError",
     "evalue": "invalid syntax (<ipython-input-13-f21c421f6bf9>, line 17)",
     "output_type": "error",
     "traceback": [
      "\u001b[0;36m  File \u001b[0;32m\"<ipython-input-13-f21c421f6bf9>\"\u001b[0;36m, line \u001b[0;32m17\u001b[0m\n\u001b[0;31m    img = img./255\u001b[0m\n\u001b[0m              ^\u001b[0m\n\u001b[0;31mSyntaxError\u001b[0m\u001b[0;31m:\u001b[0m invalid syntax\n"
     ]
    }
   ],
   "source": [
    "#Compute dice coeficient used in loss function\n",
    "def dice_coef(y_true, y_pred):\n",
    "    #Dice coeficient parameter\n",
    "    smooth = 1\n",
    "    y_true_f = K.flatten(y_true)\n",
    "    y_pred_f = K.flatten(y_pred)\n",
    "    intersection = K.sum(y_true_f * y_pred_f)\n",
    "    return((2. * intersection + smooth) / (K.sum(y_true_f) + K.sum(y_pred_f) + smooth))\n",
    "\n",
    "#Loss function\n",
    "def dice_coef_loss(y_true, y_pred):\n",
    "    return(-dice_coef(y_true, y_pred))\n",
    "\n",
    "#Process and image\n",
    "def process_img(img_file, shape = (256,256)):\n",
    "    img = imread(img_file)\n",
    "    img = transform.resize(img, shape)\n",
    "    img = img/255\n",
    "\n",
    "    return(img)\n",
    "    \n",
    "    \n",
    "#Define unet architecture\n",
    "def get_unet(img_size = (256,256,1)):\n",
    "    inputs = Input(img_size)\n",
    "    conv1 = Conv2D(32, (3, 3), activation='relu', padding='same')(inputs)\n",
    "    conv1 = Conv2D(32, (3, 3), activation='relu', padding='same')(conv1)\n",
    "    pool1 = MaxPooling2D(pool_size=(2, 2))(conv1)\n",
    "\n",
    "    conv2 = Conv2D(64, (3, 3), activation='relu', padding='same')(pool1)\n",
    "    conv2 = Conv2D(64, (3, 3), activation='relu', padding='same')(conv2)\n",
    "    pool2 = MaxPooling2D(pool_size=(2, 2))(conv2)\n",
    "\n",
    "    conv3 = Conv2D(128, (3, 3), activation='relu', padding='same')(pool2)\n",
    "    conv3 = Conv2D(128, (3, 3), activation='relu', padding='same')(conv3)\n",
    "    pool3 = MaxPooling2D(pool_size=(2, 2))(conv3)\n",
    "\n",
    "    conv4 = Conv2D(256, (3, 3), activation='relu', padding='same')(pool3)\n",
    "    conv4 = Conv2D(256, (3, 3), activation='relu', padding='same')(conv4)\n",
    "    pool4 = MaxPooling2D(pool_size=(2, 2))(conv4)\n",
    "\n",
    "    conv5 = Conv2D(512, (3, 3), activation='relu', padding='same')(pool4)\n",
    "    conv5 = Conv2D(512, (3, 3), activation='relu', padding='same')(conv5)\n",
    "\n",
    "    up6 = concatenate([Conv2DTranspose(256, (2, 2), strides=(2, 2), padding='same')(conv5), conv4], axis=3)\n",
    "    conv6 = Conv2D(256, (3, 3), activation='relu', padding='same')(up6)\n",
    "    conv6 = Conv2D(256, (3, 3), activation='relu', padding='same')(conv6)\n",
    "\n",
    "    up7 = concatenate([Conv2DTranspose(128, (2, 2), strides=(2, 2), padding='same')(conv6), conv3], axis=3)\n",
    "    conv7 = Conv2D(128, (3, 3), activation='relu', padding='same')(up7)\n",
    "    conv7 = Conv2D(128, (3, 3), activation='relu', padding='same')(conv7)\n",
    "\n",
    "    up8 = concatenate([Conv2DTranspose(64, (2, 2), strides=(2, 2), padding='same')(conv7), conv2], axis=3)\n",
    "    conv8 = Conv2D(64, (3, 3), activation='relu', padding='same')(up8)\n",
    "    conv8 = Conv2D(64, (3, 3), activation='relu', padding='same')(conv8)\n",
    "\n",
    "    up9 = concatenate([Conv2DTranspose(32, (2, 2), strides=(2, 2), padding='same')(conv8), conv1], axis=3)\n",
    "    conv9 = Conv2D(32, (3, 3), activation='relu', padding='same')(up9)\n",
    "    conv9 = Conv2D(32, (3, 3), activation='relu', padding='same')(conv9)\n",
    "\n",
    "    conv10 = Conv2D(1, (1, 1), activation='sigmoid')(conv9)\n",
    "\n",
    "    model = Model(inputs=[inputs], outputs=[conv10])\n",
    "\n",
    "    model.compile(optimizer=Adam(lr=1e-4), loss=dice_coef_loss, metrics=[dice_coef, 'accuracy'])\n",
    "    #model.summary()\n",
    "    return(model)"
   ]
  },
  {
   "cell_type": "code",
   "execution_count": 4,
   "metadata": {},
   "outputs": [
    {
     "name": "stdout",
     "output_type": "stream",
     "text": [
      "WARNING:tensorflow:From /home/andy-pohl/anaconda3/lib/python3.7/site-packages/tensorflow/python/framework/op_def_library.py:263: colocate_with (from tensorflow.python.framework.ops) is deprecated and will be removed in a future version.\n",
      "Instructions for updating:\n",
      "Colocations handled automatically by placer.\n"
     ]
    }
   ],
   "source": [
    "unet = get_unet()\n",
    "unet.load_weights('./pretrainedUnet/pre_0_3_5.h5')"
   ]
  },
  {
   "cell_type": "code",
   "execution_count": null,
   "metadata": {},
   "outputs": [],
   "source": [
    "test_image_file = HOMEDIR + BBBCMASK_DIR + '/test/image/class0/SIMCEPImages_A01_C1_F1_s01_w2.TIF'\n",
    "test_img = process_img(test_image_file)"
   ]
  },
  {
   "cell_type": "code",
   "execution_count": 5,
   "metadata": {},
   "outputs": [],
   "source": [
    "data_gen_args = dict(rotation_range = 0,\n",
    "                    width_shift_range=0,\n",
    "                    height_shift_range=0.0,\n",
    "                    zoom_range=0,\n",
    "                    horizontal_flip=False,\n",
    "                    fill_mode='nearest')\n",
    "\n",
    "def trainGenerator(image_folder,mask_folder,aug_dict,batch_size = 32, image_color_mode = \"grayscale\",\n",
    "                    mask_color_mode = \"grayscale\",image_save_prefix  = \"image\",mask_save_prefix  = \"mask\",\n",
    "                   target_size = (256,256),seed = 1):\n",
    "    '''\n",
    "    can generate image and mask at the same time\n",
    "    use the same seed for image_datagen and mask_datagen to ensure the transformation for image and mask is the same\n",
    "    if you want to visualize the results of generator, set save_to_dir = \"your path\"\n",
    "    '''\n",
    "    image_datagen = ImageDataGenerator(**aug_dict)\n",
    "    mask_datagen = ImageDataGenerator(**aug_dict)\n",
    "    image_generator = image_datagen.flow_from_directory(\n",
    "        image_folder,\n",
    "        batch_size = BATCH_SIZE,\n",
    "        color_mode = image_color_mode,\n",
    "        target_size = target_size,\n",
    "        save_prefix  = image_save_prefix,\n",
    "        save_to_dir = None,\n",
    "        class_mode=None,\n",
    "        seed = seed)\n",
    "    mask_generator = mask_datagen.flow_from_directory(\n",
    "        mask_folder,\n",
    "        batch_size = BATCH_SIZE,\n",
    "        color_mode = mask_color_mode,\n",
    "        target_size = target_size,\n",
    "        save_prefix  = mask_save_prefix,\n",
    "        save_to_dir= None,\n",
    "        class_mode=None,\n",
    "        seed = seed)\n",
    "    train_generator = zip(image_generator, mask_generator)\n",
    "    return(train_generator)"
   ]
  },
  {
   "cell_type": "code",
   "execution_count": 6,
   "metadata": {},
   "outputs": [
    {
     "name": "stdout",
     "output_type": "stream",
     "text": [
      "Found 780 images belonging to 1 classes.\n",
      "Found 780 images belonging to 1 classes.\n",
      "Found 50 images belonging to 1 classes.\n",
      "Found 50 images belonging to 1 classes.\n"
     ]
    }
   ],
   "source": [
    "train_image_dir = HOMEDIR + BBBCMASK_DIR + '/train/image/'\n",
    "train_mask_dir = HOMEDIR + BBBCMASK_DIR + '/train/label/'\n",
    "valid_image_dir = HOMEDIR + BBBCMASK_DIR + '/valid/image/'\n",
    "valid_mask_dir = HOMEDIR + BBBCMASK_DIR + '/valid/label/'\n",
    "TrainGen = trainGenerator(train_image_dir, train_mask_dir, data_gen_args)\n",
    "ValidGen = trainGenerator(valid_image_dir, valid_mask_dir, data_gen_args)"
   ]
  },
  {
   "cell_type": "code",
   "execution_count": 7,
   "metadata": {},
   "outputs": [
    {
     "name": "stdout",
     "output_type": "stream",
     "text": [
      "Epoch 1/50\n",
      "13/12 [================================] - 260s 20s/step - loss: -1.9668 - dice_coef: 1.9668 - acc: 0.1911 - val_loss: -1.9637 - val_dice_coef: 1.9637 - val_acc: 0.0203\n",
      "\n",
      "Epoch 00001: val_loss improved from inf to -1.96373, saving model to unetCellCnt.hdf5\n",
      "Epoch 2/50\n",
      "13/12 [================================] - 255s 20s/step - loss: -1.9714 - dice_coef: 1.9714 - acc: 0.1846 - val_loss: -1.9786 - val_dice_coef: 1.9786 - val_acc: 0.4272\n",
      "\n",
      "Epoch 00002: val_loss improved from -1.96373 to -1.97864, saving model to unetCellCnt.hdf5\n",
      "Epoch 3/50\n",
      "13/12 [================================] - 254s 20s/step - loss: -1.9831 - dice_coef: 1.9831 - acc: 0.5535 - val_loss: -1.9846 - val_dice_coef: 1.9846 - val_acc: 0.5910\n",
      "\n",
      "Epoch 00003: val_loss improved from -1.97864 to -1.98461, saving model to unetCellCnt.hdf5\n",
      "Epoch 4/50\n",
      "13/12 [================================] - 253s 19s/step - loss: -1.9855 - dice_coef: 1.9855 - acc: 0.6020 - val_loss: -1.9862 - val_dice_coef: 1.9862 - val_acc: 0.6383\n",
      "\n",
      "Epoch 00004: val_loss improved from -1.98461 to -1.98619, saving model to unetCellCnt.hdf5\n"
     ]
    },
    {
     "data": {
      "text/plain": [
       "<keras.callbacks.History at 0x7f1bbc279a58>"
      ]
     },
     "execution_count": 7,
     "metadata": {},
     "output_type": "execute_result"
    }
   ],
   "source": [
    "model_checkpoint = ModelCheckpoint('unetCellCnt_weights.{epoch:02d}-{val_loss:.2f}.hdf5',\n",
    "                                   monitor='val_loss',verbose=1, save_best_only=True)\n",
    "model_earlyStop = EarlyStopping(monitor='val_loss', min_delta = 0.002, patience = 3)\n",
    "model_tensorboard = TensorBoard(log_dir = HOMEDIR + '/mask_tb_logs', write_graph=True, write_images=True)\n",
    "csv_logger = CSVLogger('Mask_training.log')\n",
    "\n",
    "\n",
    "unet.fit_generator(TrainGen,steps_per_epoch=780/BATCH_SIZE,\n",
    "                        validation_data = ValidGen, \n",
    "                        validation_steps = 50/BATCH_SIZE,\n",
    "                        epochs=MAX_EPOCHS,\n",
    "                    callbacks=[model_checkpoint, model_earlyStop, model_tensorboard, csv_logger])"
   ]
  },
  {
   "cell_type": "code",
   "execution_count": 39,
   "metadata": {},
   "outputs": [
    {
     "data": {
      "text/plain": [
       "<matplotlib.image.AxesImage at 0x7f1b85723d68>"
      ]
     },
     "execution_count": 39,
     "metadata": {},
     "output_type": "execute_result"
    },
    {
     "data": {
      "image/png": "[encoded data removed]",
      "text/plain": [
       "<Figure size 432x288 with 1 Axes>"
      ]
     },
     "metadata": {
      "needs_background": "light"
     },
     "output_type": "display_data"
    }
   ],
   "source": [
    "#Process and image\n",
    "def process_img(img_file, shape = (256,256)):\n",
    "    img = imread(img_file, plugin='tifffile', as_gray = True)\n",
    "    img = transform.resize(img, shape)\n",
    "    #img = img/255\n",
    "    return(img)\n",
    "test_image_file = HOMEDIR + BBBCMASK_DIR + '/test/image/class0/SIMCEPImages_A18_C74_F1_s08_w1.TIF'\n",
    "test_image_file = '/home/andy-pohl/Documents/ssc_challenge/ssc-case-study-2019/ssc-data/train/A03_C10_F1_s01_w1.TIF'\n",
    "test_img = process_img(test_image_file)\n",
    "imshow(test_img)\n",
    "pred = unet.predict(test_img.reshape(1,256,256,1))\n",
    "imshow(pred.round(0).reshape((256,256)))"
   ]
  },
  {
   "cell_type": "code",
   "execution_count": 21,
   "metadata": {},
   "outputs": [],
   "source": [
    "imshow(test_img)"
   ]
  },
  {
   "cell_type": "code",
   "execution_count": 44,
   "metadata": {},
   "outputs": [
    {
     "data": {
      "text/plain": [
       "'2019-05-17_10:57:27'"
      ]
     },
     "execution_count": 44,
     "metadata": {},
     "output_type": "execute_result"
    }
   ],
   "source": []
  }
 ],
 "metadata": {
  "kernelspec": {
   "display_name": "Python 3",
   "language": "python",
   "name": "python3"
  },
  "language_info": {
   "codemirror_mode": {
    "name": "ipython",
    "version": 3
   },
   "file_extension": ".py",
   "mimetype": "text/x-python",
   "name": "python",
   "nbconvert_exporter": "python",
   "pygments_lexer": "ipython3",
   "version": "3.7.3"
  }
 },
 "nbformat": 4,
 "nbformat_minor": 2
}
