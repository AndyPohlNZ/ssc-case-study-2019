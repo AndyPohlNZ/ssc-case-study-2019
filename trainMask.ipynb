{
 "cells": [
  {
   "cell_type": "code",
   "execution_count": 18,
   "metadata": {},
   "outputs": [],
   "source": [
    "import os\n",
    "import random\n",
    "from shutil import copyfile\n",
    "random.seed(123)\n",
    "import numpy as np\n",
    "import math\n",
    "from unetModel import *\n",
    "\n",
    "from skimage import io as img_io \n",
    "\n",
    "from keras.preprocessing.image import ImageDataGenerator"
   ]
  },
  {
   "cell_type": "code",
   "execution_count": 19,
   "metadata": {},
   "outputs": [],
   "source": [
    "HOMEDIR = os.getcwd()\n",
    "BBBCMASK_DIR = '/BBBC_data/mask_creation_images'\n",
    "# get number of images\n",
    "ALL_IMAGES = [f for f in os.listdir(HOMEDIR + BBBCMASK_DIR + '/image') if f.endswith('.TIF')]\n",
    "N_IMAGES = len(ALL_IMAGES)\n"
   ]
  },
  {
   "cell_type": "code",
   "execution_count": 8,
   "metadata": {},
   "outputs": [],
   "source": [
    "# function to split into train and validate sets...\n",
    "p = 0.1\n",
    "images_s = random.shuffle(ALL_IMAGES)\n",
    "ntrain =N_IMAGES-math.floor(p*N_IMAGES)\n",
    "train = random.sample(ALL_IMAGES,ntrain)\n",
    "valid = [f for f in ALL_IMAGES if f not in train]\n",
    "\n",
    "if not os.path.exists(HOMEDIR + BBBCMASK_DIR + '/train'):\n",
    "    os.makedirs(HOMEDIR + BBBCMASK_DIR + '/train')\n",
    "    os.makedirs(HOMEDIR + BBBCMASK_DIR + '/train/image')\n",
    "    os.makedirs(HOMEDIR + BBBCMASK_DIR + '/train/label')\n",
    "\n",
    "    \n",
    "if not os.path.exists(HOMEDIR + BBBCMASK_DIR + '/valid'):\n",
    "    os.makedirs(HOMEDIR + BBBCMASK_DIR + '/valid')\n",
    "    os.makedirs(HOMEDIR + BBBCMASK_DIR + '/valid/image')\n",
    "    os.makedirs(HOMEDIR + BBBCMASK_DIR + '/valid/label')\n",
    "\n",
    "\n",
    "for f in train:\n",
    "    raw_image_src = HOMEDIR + BBBCMASK_DIR + '/image/' + f\n",
    "    raw_image_dest = HOMEDIR + BBBCMASK_DIR + '/train/image/' + f\n",
    "    mask_image_src = HOMEDIR + BBBCMASK_DIR + '/label/' + f\n",
    "    mask_image_dest = HOMEDIR + BBBCMASK_DIR + '/train/label/' + f\n",
    "    copyfile(raw_image_src,raw_image_dest)\n",
    "    copyfile(mask_image_src,mask_image_dest)\n",
    "\n",
    "for f in valid:\n",
    "    raw_image_src = HOMEDIR + BBBCMASK_DIR + '/image/' + f\n",
    "    raw_image_dest = HOMEDIR + BBBCMASK_DIR + '/valid/image/' + f\n",
    "    mask_image_src = HOMEDIR + BBBCMASK_DIR + '/label/' + f\n",
    "    mask_image_dest = HOMEDIR + BBBCMASK_DIR + '/valid/label/' + f\n",
    "    copyfile(raw_image_src,raw_image_dest)\n",
    "    copyfile(mask_image_src,mask_image_dest)\n",
    "\n",
    "\n",
    "    \n"
   ]
  },
  {
   "cell_type": "code",
   "execution_count": 26,
   "metadata": {},
   "outputs": [],
   "source": [
    "train_image_dir = HOMEDIR + BBBCMASK_DIR + '/train/image/'\n",
    "train_mask_dir = HOMEDIR + BBBCMASK_DIR + '/train/label/'\n"
   ]
  },
  {
   "cell_type": "code",
   "execution_count": 23,
   "metadata": {},
   "outputs": [
    {
     "data": {
      "text/plain": [
       "255"
      ]
     },
     "execution_count": 23,
     "metadata": {},
     "output_type": "execute_result"
    }
   ],
   "source": [
    "np.max(test_img)"
   ]
  },
  {
   "cell_type": "code",
   "execution_count": 28,
   "metadata": {},
   "outputs": [],
   "source": [
    "# Create data generator\n",
    "\n",
    "data_gen_args = dict(rotation_range = 90,\n",
    "                    width_shift_range=0.05,\n",
    "                    height_shift_range=0.05,\n",
    "                    shear_range=0.05,\n",
    "                    zoom_range=0.05,\n",
    "                    horizontal_flip=True,\n",
    "                    fill_mode='nearest')\n",
    "\n",
    "def trainGenerator(batch_size,image_folder,mask_folder,aug_dict,image_color_mode = \"grayscale\",\n",
    "                    mask_color_mode = \"grayscale\",image_save_prefix  = \"image\",mask_save_prefix  = \"mask\",\n",
    "                    flag_multi_class = False,num_class = 2,save_to_dir = None,target_size = (256,256),seed = 1):\n",
    "    '''\n",
    "    can generate image and mask at the same time\n",
    "    use the same seed for image_datagen and mask_datagen to ensure the transformation for image and mask is the same\n",
    "    if you want to visualize the results of generator, set save_to_dir = \"your path\"\n",
    "    '''\n",
    "    image_datagen = ImageDataGenerator(**aug_dict)\n",
    "    mask_datagen = ImageDataGenerator(**aug_dict)\n",
    "    image_generator = image_datagen.flow_from_directory(\n",
    "        train_path,\n",
    "        color_mode = image_color_mode,\n",
    "        target_size = target_size,\n",
    "        batch_size = batch_size,\n",
    "        save_to_dir = save_to_dir,\n",
    "        save_prefix  = image_save_prefix,\n",
    "        seed = seed)\n",
    "    mask_generator = mask_datagen.flow_from_directory(\n",
    "        mask_folder,\n",
    "        color_mode = mask_color_mode,\n",
    "        target_size = target_size,\n",
    "        batch_size = batch_size,\n",
    "        save_to_dir = save_to_dir,\n",
    "        save_prefix  = mask_save_prefix,\n",
    "        seed = seed)\n",
    "    train_generator = zip(image_generator, mask_generator)\n",
    "    for (img,mask) in train_generator:\n",
    "        img,mask = adjustData(img,mask,flag_multi_class,num_class)\n",
    "        yield (img,mask)\n",
    "\n"
   ]
  },
  {
   "cell_type": "code",
   "execution_count": 29,
   "metadata": {},
   "outputs": [],
   "source": [
    "mygen = trainGenerator(20, train_image_dir, train_mask_dir, data_gen_args)"
   ]
  }
 ],
 "metadata": {
  "kernelspec": {
   "display_name": "Python 3",
   "language": "python",
   "name": "python3"
  },
  "language_info": {
   "codemirror_mode": {
    "name": "ipython",
    "version": 3
   },
   "file_extension": ".py",
   "mimetype": "text/x-python",
   "name": "python",
   "nbconvert_exporter": "python",
   "pygments_lexer": "ipython3",
   "version": "3.7.3"
  }
 },
 "nbformat": 4,
 "nbformat_minor": 2
}
